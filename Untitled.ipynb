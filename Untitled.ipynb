{
 "cells": [
  {
   "cell_type": "code",
   "execution_count": 76,
   "metadata": {},
   "outputs": [],
   "source": [
    "import numpy as np\n",
    "import numpy.fft as fft\n",
    "import pandas as pd\n",
    "import matplotlib.pyplot as plt"
   ]
  },
  {
   "cell_type": "code",
   "execution_count": 3,
   "metadata": {},
   "outputs": [],
   "source": [
    "cfenergydata = pd.read_csv(\"../sample_data/19992009electricitybyplanningarea.csv\");"
   ]
  },
  {
   "cell_type": "code",
   "execution_count": 42,
   "metadata": {},
   "outputs": [],
   "source": [
    "data = cfenergydata[cfenergydata[\"Planning Area Description\"] == \"Burbank, Glendale, and Pasadena\"].sort_values(\"Year\")"
   ]
  },
  {
   "cell_type": "code",
   "execution_count": 43,
   "metadata": {},
   "outputs": [
    {
     "data": {
      "text/html": [
       "<div>\n",
       "<style scoped>\n",
       "    .dataframe tbody tr th:only-of-type {\n",
       "        vertical-align: middle;\n",
       "    }\n",
       "\n",
       "    .dataframe tbody tr th {\n",
       "        vertical-align: top;\n",
       "    }\n",
       "\n",
       "    .dataframe thead th {\n",
       "        text-align: right;\n",
       "    }\n",
       "</style>\n",
       "<table border=\"1\" class=\"dataframe\">\n",
       "  <thead>\n",
       "    <tr style=\"text-align: right;\">\n",
       "      <th></th>\n",
       "      <th>Planning Area Description</th>\n",
       "      <th>Year</th>\n",
       "      <th>Ag &amp; Water Pump</th>\n",
       "      <th>Commercial Building</th>\n",
       "      <th>Commercial Other</th>\n",
       "      <th>Industry</th>\n",
       "      <th>Mining &amp; Construction</th>\n",
       "      <th>Residential</th>\n",
       "      <th>Streetlight</th>\n",
       "      <th>Total Usage</th>\n",
       "    </tr>\n",
       "  </thead>\n",
       "  <tbody>\n",
       "    <tr>\n",
       "      <th>0</th>\n",
       "      <td>Burbank, Glendale, and Pasadena</td>\n",
       "      <td>1990</td>\n",
       "      <td>33.152177</td>\n",
       "      <td>1428.801194</td>\n",
       "      <td>61.617858</td>\n",
       "      <td>503.809832</td>\n",
       "      <td>46.284311</td>\n",
       "      <td>858.249845</td>\n",
       "      <td>30.832279</td>\n",
       "      <td>2962.747496</td>\n",
       "    </tr>\n",
       "    <tr>\n",
       "      <th>1</th>\n",
       "      <td>Burbank, Glendale, and Pasadena</td>\n",
       "      <td>1991</td>\n",
       "      <td>28.923706</td>\n",
       "      <td>1415.262278</td>\n",
       "      <td>60.383775</td>\n",
       "      <td>398.092672</td>\n",
       "      <td>40.168765</td>\n",
       "      <td>796.672065</td>\n",
       "      <td>30.808334</td>\n",
       "      <td>2770.311595</td>\n",
       "    </tr>\n",
       "    <tr>\n",
       "      <th>2</th>\n",
       "      <td>Burbank, Glendale, and Pasadena</td>\n",
       "      <td>1992</td>\n",
       "      <td>27.841726</td>\n",
       "      <td>1559.789686</td>\n",
       "      <td>62.946867</td>\n",
       "      <td>376.337240</td>\n",
       "      <td>42.528526</td>\n",
       "      <td>842.290174</td>\n",
       "      <td>30.098094</td>\n",
       "      <td>2941.832313</td>\n",
       "    </tr>\n",
       "    <tr>\n",
       "      <th>3</th>\n",
       "      <td>Burbank, Glendale, and Pasadena</td>\n",
       "      <td>1993</td>\n",
       "      <td>25.297164</td>\n",
       "      <td>1711.631489</td>\n",
       "      <td>55.586555</td>\n",
       "      <td>312.426175</td>\n",
       "      <td>43.048229</td>\n",
       "      <td>824.939994</td>\n",
       "      <td>31.095867</td>\n",
       "      <td>3004.025473</td>\n",
       "    </tr>\n",
       "    <tr>\n",
       "      <th>4</th>\n",
       "      <td>Burbank, Glendale, and Pasadena</td>\n",
       "      <td>1994</td>\n",
       "      <td>26.316572</td>\n",
       "      <td>1757.120296</td>\n",
       "      <td>51.752164</td>\n",
       "      <td>268.874134</td>\n",
       "      <td>41.541199</td>\n",
       "      <td>838.677628</td>\n",
       "      <td>30.543356</td>\n",
       "      <td>3014.825349</td>\n",
       "    </tr>\n",
       "    <tr>\n",
       "      <th>5</th>\n",
       "      <td>Burbank, Glendale, and Pasadena</td>\n",
       "      <td>1995</td>\n",
       "      <td>27.509078</td>\n",
       "      <td>1816.959435</td>\n",
       "      <td>60.518988</td>\n",
       "      <td>250.286468</td>\n",
       "      <td>49.663682</td>\n",
       "      <td>861.638616</td>\n",
       "      <td>30.526090</td>\n",
       "      <td>3097.102357</td>\n",
       "    </tr>\n",
       "    <tr>\n",
       "      <th>6</th>\n",
       "      <td>Burbank, Glendale, and Pasadena</td>\n",
       "      <td>1996</td>\n",
       "      <td>25.449786</td>\n",
       "      <td>1873.741664</td>\n",
       "      <td>60.091919</td>\n",
       "      <td>252.704357</td>\n",
       "      <td>52.560938</td>\n",
       "      <td>875.130743</td>\n",
       "      <td>28.046960</td>\n",
       "      <td>3167.726367</td>\n",
       "    </tr>\n",
       "    <tr>\n",
       "      <th>7</th>\n",
       "      <td>Burbank, Glendale, and Pasadena</td>\n",
       "      <td>1997</td>\n",
       "      <td>22.056973</td>\n",
       "      <td>1932.623964</td>\n",
       "      <td>72.496227</td>\n",
       "      <td>252.056254</td>\n",
       "      <td>48.696291</td>\n",
       "      <td>888.849286</td>\n",
       "      <td>33.730411</td>\n",
       "      <td>3250.509406</td>\n",
       "    </tr>\n",
       "    <tr>\n",
       "      <th>8</th>\n",
       "      <td>Burbank, Glendale, and Pasadena</td>\n",
       "      <td>1998</td>\n",
       "      <td>21.080127</td>\n",
       "      <td>1989.499604</td>\n",
       "      <td>70.591572</td>\n",
       "      <td>249.238438</td>\n",
       "      <td>54.225839</td>\n",
       "      <td>895.993534</td>\n",
       "      <td>33.954870</td>\n",
       "      <td>3314.583984</td>\n",
       "    </tr>\n",
       "    <tr>\n",
       "      <th>9</th>\n",
       "      <td>Burbank, Glendale, and Pasadena</td>\n",
       "      <td>1999</td>\n",
       "      <td>20.849252</td>\n",
       "      <td>1968.432062</td>\n",
       "      <td>72.449147</td>\n",
       "      <td>231.592228</td>\n",
       "      <td>55.615291</td>\n",
       "      <td>875.574003</td>\n",
       "      <td>32.539377</td>\n",
       "      <td>3257.051360</td>\n",
       "    </tr>\n",
       "    <tr>\n",
       "      <th>10</th>\n",
       "      <td>Burbank, Glendale, and Pasadena</td>\n",
       "      <td>2000</td>\n",
       "      <td>20.774395</td>\n",
       "      <td>2038.310000</td>\n",
       "      <td>74.415941</td>\n",
       "      <td>211.003301</td>\n",
       "      <td>57.452863</td>\n",
       "      <td>903.280000</td>\n",
       "      <td>32.740000</td>\n",
       "      <td>3337.976500</td>\n",
       "    </tr>\n",
       "    <tr>\n",
       "      <th>11</th>\n",
       "      <td>Burbank, Glendale, and Pasadena</td>\n",
       "      <td>2001</td>\n",
       "      <td>10.380301</td>\n",
       "      <td>2050.640000</td>\n",
       "      <td>78.826260</td>\n",
       "      <td>165.429999</td>\n",
       "      <td>55.196540</td>\n",
       "      <td>906.880000</td>\n",
       "      <td>31.160000</td>\n",
       "      <td>3298.513100</td>\n",
       "    </tr>\n",
       "    <tr>\n",
       "      <th>12</th>\n",
       "      <td>Burbank, Glendale, and Pasadena</td>\n",
       "      <td>2002</td>\n",
       "      <td>16.410043</td>\n",
       "      <td>1983.870000</td>\n",
       "      <td>83.821107</td>\n",
       "      <td>176.125007</td>\n",
       "      <td>48.806230</td>\n",
       "      <td>878.910000</td>\n",
       "      <td>31.170000</td>\n",
       "      <td>3219.112387</td>\n",
       "    </tr>\n",
       "    <tr>\n",
       "      <th>13</th>\n",
       "      <td>Burbank, Glendale, and Pasadena</td>\n",
       "      <td>2003</td>\n",
       "      <td>16.130044</td>\n",
       "      <td>2018.300000</td>\n",
       "      <td>81.798072</td>\n",
       "      <td>152.955986</td>\n",
       "      <td>46.250000</td>\n",
       "      <td>890.550000</td>\n",
       "      <td>33.710000</td>\n",
       "      <td>3239.694102</td>\n",
       "    </tr>\n",
       "    <tr>\n",
       "      <th>14</th>\n",
       "      <td>Burbank, Glendale, and Pasadena</td>\n",
       "      <td>2004</td>\n",
       "      <td>3.410000</td>\n",
       "      <td>2060.630000</td>\n",
       "      <td>82.900000</td>\n",
       "      <td>164.415411</td>\n",
       "      <td>49.355000</td>\n",
       "      <td>1002.658000</td>\n",
       "      <td>35.200000</td>\n",
       "      <td>3398.568411</td>\n",
       "    </tr>\n",
       "    <tr>\n",
       "      <th>15</th>\n",
       "      <td>Burbank, Glendale, and Pasadena</td>\n",
       "      <td>2005</td>\n",
       "      <td>3.950000</td>\n",
       "      <td>2076.910000</td>\n",
       "      <td>106.650000</td>\n",
       "      <td>182.054687</td>\n",
       "      <td>53.618000</td>\n",
       "      <td>939.670000</td>\n",
       "      <td>31.030000</td>\n",
       "      <td>3393.882687</td>\n",
       "    </tr>\n",
       "    <tr>\n",
       "      <th>16</th>\n",
       "      <td>Burbank, Glendale, and Pasadena</td>\n",
       "      <td>2006</td>\n",
       "      <td>1.809801</td>\n",
       "      <td>2124.410600</td>\n",
       "      <td>110.660800</td>\n",
       "      <td>185.002000</td>\n",
       "      <td>56.567000</td>\n",
       "      <td>954.317000</td>\n",
       "      <td>43.257400</td>\n",
       "      <td>3476.024601</td>\n",
       "    </tr>\n",
       "    <tr>\n",
       "      <th>17</th>\n",
       "      <td>Burbank, Glendale, and Pasadena</td>\n",
       "      <td>2007</td>\n",
       "      <td>6.423438</td>\n",
       "      <td>2219.712592</td>\n",
       "      <td>102.424948</td>\n",
       "      <td>162.011809</td>\n",
       "      <td>49.310938</td>\n",
       "      <td>1018.598917</td>\n",
       "      <td>37.642993</td>\n",
       "      <td>3596.125635</td>\n",
       "    </tr>\n",
       "    <tr>\n",
       "      <th>18</th>\n",
       "      <td>Burbank, Glendale, and Pasadena</td>\n",
       "      <td>2008</td>\n",
       "      <td>6.456057</td>\n",
       "      <td>2226.552145</td>\n",
       "      <td>100.185590</td>\n",
       "      <td>161.092234</td>\n",
       "      <td>46.376358</td>\n",
       "      <td>964.862064</td>\n",
       "      <td>45.349645</td>\n",
       "      <td>3550.874093</td>\n",
       "    </tr>\n",
       "    <tr>\n",
       "      <th>19</th>\n",
       "      <td>Burbank, Glendale, and Pasadena</td>\n",
       "      <td>2009</td>\n",
       "      <td>6.587957</td>\n",
       "      <td>1430.201929</td>\n",
       "      <td>62.188719</td>\n",
       "      <td>134.418068</td>\n",
       "      <td>35.793882</td>\n",
       "      <td>602.794983</td>\n",
       "      <td>20.620023</td>\n",
       "      <td>2292.605561</td>\n",
       "    </tr>\n",
       "  </tbody>\n",
       "</table>\n",
       "</div>"
      ],
      "text/plain": [
       "          Planning Area Description  Year  Ag & Water Pump  \\\n",
       "0   Burbank, Glendale, and Pasadena  1990        33.152177   \n",
       "1   Burbank, Glendale, and Pasadena  1991        28.923706   \n",
       "2   Burbank, Glendale, and Pasadena  1992        27.841726   \n",
       "3   Burbank, Glendale, and Pasadena  1993        25.297164   \n",
       "4   Burbank, Glendale, and Pasadena  1994        26.316572   \n",
       "5   Burbank, Glendale, and Pasadena  1995        27.509078   \n",
       "6   Burbank, Glendale, and Pasadena  1996        25.449786   \n",
       "7   Burbank, Glendale, and Pasadena  1997        22.056973   \n",
       "8   Burbank, Glendale, and Pasadena  1998        21.080127   \n",
       "9   Burbank, Glendale, and Pasadena  1999        20.849252   \n",
       "10  Burbank, Glendale, and Pasadena  2000        20.774395   \n",
       "11  Burbank, Glendale, and Pasadena  2001        10.380301   \n",
       "12  Burbank, Glendale, and Pasadena  2002        16.410043   \n",
       "13  Burbank, Glendale, and Pasadena  2003        16.130044   \n",
       "14  Burbank, Glendale, and Pasadena  2004         3.410000   \n",
       "15  Burbank, Glendale, and Pasadena  2005         3.950000   \n",
       "16  Burbank, Glendale, and Pasadena  2006         1.809801   \n",
       "17  Burbank, Glendale, and Pasadena  2007         6.423438   \n",
       "18  Burbank, Glendale, and Pasadena  2008         6.456057   \n",
       "19  Burbank, Glendale, and Pasadena  2009         6.587957   \n",
       "\n",
       "    Commercial Building  Commercial Other    Industry  Mining & Construction  \\\n",
       "0           1428.801194         61.617858  503.809832              46.284311   \n",
       "1           1415.262278         60.383775  398.092672              40.168765   \n",
       "2           1559.789686         62.946867  376.337240              42.528526   \n",
       "3           1711.631489         55.586555  312.426175              43.048229   \n",
       "4           1757.120296         51.752164  268.874134              41.541199   \n",
       "5           1816.959435         60.518988  250.286468              49.663682   \n",
       "6           1873.741664         60.091919  252.704357              52.560938   \n",
       "7           1932.623964         72.496227  252.056254              48.696291   \n",
       "8           1989.499604         70.591572  249.238438              54.225839   \n",
       "9           1968.432062         72.449147  231.592228              55.615291   \n",
       "10          2038.310000         74.415941  211.003301              57.452863   \n",
       "11          2050.640000         78.826260  165.429999              55.196540   \n",
       "12          1983.870000         83.821107  176.125007              48.806230   \n",
       "13          2018.300000         81.798072  152.955986              46.250000   \n",
       "14          2060.630000         82.900000  164.415411              49.355000   \n",
       "15          2076.910000        106.650000  182.054687              53.618000   \n",
       "16          2124.410600        110.660800  185.002000              56.567000   \n",
       "17          2219.712592        102.424948  162.011809              49.310938   \n",
       "18          2226.552145        100.185590  161.092234              46.376358   \n",
       "19          1430.201929         62.188719  134.418068              35.793882   \n",
       "\n",
       "    Residential  Streetlight  Total Usage  \n",
       "0    858.249845    30.832279  2962.747496  \n",
       "1    796.672065    30.808334  2770.311595  \n",
       "2    842.290174    30.098094  2941.832313  \n",
       "3    824.939994    31.095867  3004.025473  \n",
       "4    838.677628    30.543356  3014.825349  \n",
       "5    861.638616    30.526090  3097.102357  \n",
       "6    875.130743    28.046960  3167.726367  \n",
       "7    888.849286    33.730411  3250.509406  \n",
       "8    895.993534    33.954870  3314.583984  \n",
       "9    875.574003    32.539377  3257.051360  \n",
       "10   903.280000    32.740000  3337.976500  \n",
       "11   906.880000    31.160000  3298.513100  \n",
       "12   878.910000    31.170000  3219.112387  \n",
       "13   890.550000    33.710000  3239.694102  \n",
       "14  1002.658000    35.200000  3398.568411  \n",
       "15   939.670000    31.030000  3393.882687  \n",
       "16   954.317000    43.257400  3476.024601  \n",
       "17  1018.598917    37.642993  3596.125635  \n",
       "18   964.862064    45.349645  3550.874093  \n",
       "19   602.794983    20.620023  2292.605561  "
      ]
     },
     "execution_count": 43,
     "metadata": {},
     "output_type": "execute_result"
    }
   ],
   "source": [
    "data"
   ]
  },
  {
   "cell_type": "code",
   "execution_count": 46,
   "metadata": {},
   "outputs": [
    {
     "data": {
      "image/png": "[encoded data removed]",
      "text/plain": [
       "<Figure size 432x288 with 1 Axes>"
      ]
     },
     "metadata": {
      "needs_background": "light"
     },
     "output_type": "display_data"
    }
   ],
   "source": [
    "fig, ax = plt.subplots()\n",
    "lines = ax.plot(data[\"Year\"], data[\"Total Usage\"])\n",
    "ax.set_ylim(0)\n",
    "plt.show()"
   ]
  },
  {
   "cell_type": "code",
   "execution_count": 51,
   "metadata": {},
   "outputs": [],
   "source": [
    "fft = numpy.fft.fft\n",
    "ifft = numpy.fft.ifft"
   ]
  },
  {
   "cell_type": "code",
   "execution_count": 67,
   "metadata": {},
   "outputs": [],
   "source": [
    "ft = fft(data[\"Total Usage\"])\n",
    "ft[np.abs(ft) < 2000] = 0\n",
    "fd = np.real(ifft(ft))"
   ]
  },
  {
   "cell_type": "code",
   "execution_count": 68,
   "metadata": {},
   "outputs": [
    {
     "data": {
      "image/png": "[encoded data removed]",
      "text/plain": [
       "<Figure size 432x288 with 1 Axes>"
      ]
     },
     "metadata": {
      "needs_background": "light"
     },
     "output_type": "display_data"
    }
   ],
   "source": [
    "fig, ax = plt.subplots()\n",
    "lines = ax.plot(data[\"Year\"], fd)\n",
    "ax.set_ylim(0)\n",
    "plt.show()"
   ]
  },
  {
   "cell_type": "code",
   "execution_count": 124,
   "metadata": {},
   "outputs": [],
   "source": [
    "def fourierExtrapolation(x, n_predict, n_harm):\n",
    "    # x is an array of past data\n",
    "    # n_predict is how many data points we want to predict for the future\n",
    "    # n_harm is the number of harmonics in model\n",
    "    n = x.size                          # Get the length of the data array\n",
    "    t = np.arange(0, n)                 # Create a domain for the data\n",
    "    slope = np.polyfit(t, x, 1)[0]      # Fit a linear trendline on the relationship between t and x\n",
    "    detrended_x = x - slope * t         # Subtract the linear trendline from the data array\n",
    "    dft = fft.fft(detrended_x)          # Compute DFT\n",
    "    f = fft.fftfreq(n)                  # Get the set of frequencies in the domain of the DFT\n",
    "    indices = np.argsort(np.abs(f))     # Create a list of DFT indices sorted by abs() of their frequency\n",
    "    \n",
    "    # Select only the lowest frequencies (to eliminate noise)\n",
    "    low_freq = indices[: 1 + n_harm * 2]\n",
    " \n",
    "    t = np.arange(0, n + n_predict)     # Create a domain for the reconstituted signal\n",
    "    \n",
    "    restored_sig = np.zeros(len(t))\n",
    "    for i in low_freq:                  # Iterate over the low frequencies we selected\n",
    "        # Calculate the amplitude and phase of the oscillation\n",
    "        amplitude = np.absolute(dft[i]) / n\n",
    "        phase = np.angle(dft[i])\n",
    "        # Add a new layer of oscillation corresponding to this frequency\n",
    "        restored_sig += amplitude * np.cos(2 * np.pi * f[i] * t + phase)\n",
    "    # Reintroduce the linear trend we determined earlier\n",
    "    return restored_sig + slope * t"
   ]
  },
  {
   "cell_type": "code",
   "execution_count": 125,
   "metadata": {},
   "outputs": [
    {
     "data": {
      "image/png": "[encoded data removed]",
      "text/plain": [
       "<Figure size 432x288 with 1 Axes>"
      ]
     },
     "metadata": {
      "needs_background": "light"
     },
     "output_type": "display_data"
    }
   ],
   "source": [
    "n_predict = 100\n",
    "extrapolation = fourierExtrapolation(data[\"Total Usage\"], n_predict, 3)\n",
    "start = np.array(data[\"Year\"])[-1]+1\n",
    "x = np.append(np.array(data[\"Year\"]), np.arange(start, start + n_predict))\n",
    "\n",
    "fig, ax = plt.subplots()\n",
    "past, = ax.plot(data[\"Year\"], data[\"Total Usage\"])\n",
    "pred, = ax.plot(x, extrapolation)\n",
    "ax.set_ylim(0)\n",
    "plt.show()"
   ]
  },
  {
   "cell_type": "code",
   "execution_count": 98,
   "metadata": {},
   "outputs": [
    {
     "data": {
      "text/plain": [
       "array([ 0.        ,  1.11111111,  2.22222222,  3.33333333,  4.44444444,\n",
       "        5.55555556,  6.66666667,  7.77777778,  8.88888889, 10.        ])"
      ]
     },
     "execution_count": 98,
     "metadata": {},
     "output_type": "execute_result"
    }
   ],
   "source": [
    "s1 = np.linspace(0, 10, 10)\n",
    "s2 = np.zeros(10)\n",
    "s2 + s1"
   ]
  },
  {
   "cell_type": "code",
   "execution_count": 104,
   "metadata": {},
   "outputs": [
    {
     "name": "stdout",
     "output_type": "stream",
     "text": [
      "[0, 1, 19, 2, 18, 3, 17, 4, 16, 5, 15, 6, 14, 7, 13, 8, 12, 9, 11, 10]\n",
      "[ 0 19  1  2 18  3 17  4 16  5 15  6 14  7 13  8 12  9 11 10]\n"
     ]
    }
   ],
   "source": [
    "n = 20\n",
    "f = fft.fftfreq(n)\n",
    "t = list(np.arange(0, n))\n",
    "t.sort(key = lambda i: np.abs(f[i]))\n",
    "print(t)\n",
    "print(np.argsort(np.abs(f)))"
   ]
  },
  {
   "cell_type": "code",
   "execution_count": 105,
   "metadata": {},
   "outputs": [
    {
     "name": "stderr",
     "output_type": "stream",
     "text": [
      "/Library/Frameworks/Python.framework/Versions/3.8/lib/python3.8/site-packages/numpy/core/_asarray.py:85: ComplexWarning: Casting complex values to real discards the imaginary part\n",
      "  return array(a, dtype, copy=False, order=order)\n"
     ]
    },
    {
     "data": {
      "image/png": "[encoded data removed]",
      "text/plain": [
       "<Figure size 432x288 with 1 Axes>"
      ]
     },
     "metadata": {
      "needs_background": "light"
     },
     "output_type": "display_data"
    }
   ],
   "source": [
    "fig, ax = plt.subplots()\n",
    "x = fft.fftfreq(len(data[\"Total Usage\"]))\n",
    "y = fft.fft(data[\"Total Usage\"])\n",
    "l, = ax.plot(x, y)\n",
    "plt.show()"
   ]
  },
  {
   "cell_type": "code",
   "execution_count": null,
   "metadata": {},
   "outputs": [],
   "source": []
  }
 ],
 "metadata": {
  "kernelspec": {
   "display_name": "Python 3",
   "language": "python",
   "name": "python3"
  },
  "language_info": {
   "codemirror_mode": {
    "name": "ipython",
    "version": 3
   },
   "file_extension": ".py",
   "mimetype": "text/x-python",
   "name": "python",
   "nbconvert_exporter": "python",
   "pygments_lexer": "ipython3",
   "version": "3.8.1"
  }
 },
 "nbformat": 4,
 "nbformat_minor": 4
}
