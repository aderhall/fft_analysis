{
 "cells": [
  {
   "cell_type": "code",
   "execution_count": 1,
   "metadata": {},
   "outputs": [],
   "source": [
    "import numpy as np\n",
    "import numpy.fft as fft\n",
    "import pandas as pd\n",
    "import matplotlib.pyplot as plt"
   ]
  },
  {
   "cell_type": "code",
   "execution_count": 5,
   "metadata": {},
   "outputs": [],
   "source": [
    "# I modified this from code I found on stackoverflow\n",
    "# 1. Fit a linear model to the dataset and subtract this from the data\n",
    "# 2. Compute the discrete fourier transform of the dataset\n",
    "# 3. The domain of the DFT is a set of frequencies. Pick the `n_harm` lowest frequencies and reassemble them into a signal\n",
    "# 4. To reconstitute the signal, determine the amplitude and phase from the complex numbers in the DFT\n",
    "def fourierExtrapolation(x, n_predict, n_harm):\n",
    "    # x is an array of past data\n",
    "    # n_predict is how many data points we want to predict for the future\n",
    "    # n_harm is the number of harmonics in model\n",
    "    n = x.size                          # Get the length of the data array\n",
    "    t = np.arange(0, n)                 # Create a domain for the data\n",
    "    slope = np.polyfit(t, x, 1)[0]      # Fit a linear trendline on the relationship between t and x\n",
    "    detrended_x = x - slope * t         # Subtract the linear trendline from the data array\n",
    "    dft = fft.fft(detrended_x)          # Compute DFT\n",
    "    f = fft.fftfreq(n)                  # Get the set of frequencies in the domain of the DFT\n",
    "    indices = np.argsort(np.abs(f))     # Create a list of DFT indices sorted by abs() of their frequency\n",
    "    \n",
    "    # Select only the lowest frequencies (to eliminate noise)\n",
    "    low_freq = indices[: 1 + n_harm * 2]\n",
    " \n",
    "    t = np.arange(0, n + n_predict)     # Create a domain for the reconstituted signal\n",
    "    \n",
    "    restored_sig = np.zeros(len(t))\n",
    "    for i in low_freq:                  # Iterate over the low frequencies we selected\n",
    "        # Calculate the amplitude and phase of the oscillation\n",
    "        amplitude = np.absolute(dft[i]) / n\n",
    "        phase = np.angle(dft[i])\n",
    "        # Add a new layer of oscillation corresponding to this frequency\n",
    "        restored_sig += amplitude * np.cos(2 * np.pi * f[i] * t + phase)\n",
    "    # Reintroduce the linear trend we determined earlier\n",
    "    return restored_sig + slope * t"
   ]
  },
  {
   "cell_type": "code",
   "execution_count": 10,
   "metadata": {},
   "outputs": [],
   "source": [
    "data = pd.read_csv(\"../sample_data/19992009electricitybyplanningarea.csv\")\n",
    "data = data[data[\"Planning Area Description\"] == \"Burbank, Glendale, and Pasadena\"].sort_values(\"Year\")\n",
    "data = data[:-1]"
   ]
  },
  {
   "cell_type": "code",
   "execution_count": 11,
   "metadata": {},
   "outputs": [
    {
     "data": {
      "image/png": "[encoded data removed]",
      "text/plain": [
       "<Figure size 432x288 with 1 Axes>"
      ]
     },
     "metadata": {
      "needs_background": "light"
     },
     "output_type": "display_data"
    }
   ],
   "source": [
    "# Predict next 10 years \n",
    "n_predict = 10\n",
    "# Compute the extrapolation\n",
    "extrapolation = fourierExtrapolation(data[\"Total Usage\"], n_predict, 3)\n",
    "# Get the year after the last year in the dataset (the first predicted year)\n",
    "start = np.array(data[\"Year\"])[-1]+1\n",
    "# Concatenate the past and predicted domains\n",
    "x = np.append(np.array(data[\"Year\"]), np.arange(start, start + n_predict))\n",
    "\n",
    "# Plot the data\n",
    "fig, ax = plt.subplots()\n",
    "past, = ax.plot(data[\"Year\"], data[\"Total Usage\"])\n",
    "pred, = ax.plot(x, extrapolation)\n",
    "ax.set_ylim(0)\n",
    "plt.show()"
   ]
  },
  {
   "cell_type": "code",
   "execution_count": null,
   "metadata": {},
   "outputs": [],
   "source": []
  }
 ],
 "metadata": {
  "kernelspec": {
   "display_name": "Python 3",
   "language": "python",
   "name": "python3"
  },
  "language_info": {
   "codemirror_mode": {
    "name": "ipython",
    "version": 3
   },
   "file_extension": ".py",
   "mimetype": "text/x-python",
   "name": "python",
   "nbconvert_exporter": "python",
   "pygments_lexer": "ipython3",
   "version": "3.8.1"
  }
 },
 "nbformat": 4,
 "nbformat_minor": 4
}
